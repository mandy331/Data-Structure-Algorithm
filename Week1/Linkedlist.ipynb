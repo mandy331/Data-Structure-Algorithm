{
 "cells": [
  {
   "cell_type": "code",
   "execution_count": null,
   "metadata": {},
   "outputs": [],
   "source": [
    "from IPython.display import Image\n",
    "from IPython.core.display import HTML "
   ]
  },
  {
   "cell_type": "markdown",
   "metadata": {},
   "source": [
    "<font color=2f416d size=4>參考連結</font>\n",
    "\n",
    "1. Linked-list簡介 [SecondRound Linked-list](http://alrightchiu.github.io/SecondRound/linked-list-introjian-jie.html)\n",
    "2. Linked-list LeetCode [Disign Linked list](https://www.educative.io/edpresso/merge-sort-in-python)"
   ]
  },
  {
   "cell_type": "markdown",
   "metadata": {},
   "source": [
    "<font color=2f416d size=4>Linked-list Introduction</font>\n",
    "\n",
    "1. Linked list是用node(節點)來記錄、表示、儲存資料(data)，並利用每個node中的pointer指向下一個node，藉此將多個node串連起來，形成Linked list，並以None來代表Linked list的終點。\n",
    "\n",
    "\n",
    "2. 以火車為例，可以把node想像成火車廂，火車廂內的乘客數想為data，每一節車廂和下一節車廂的連結想為pointer，藉由pointer把車廂串連起來，pointer的存在也使得我們能夠「移動(traversal)」來讀取資料，並得以新增、刪除node。"
   ]
  },
  {
   "cell_type": "markdown",
   "metadata": {},
   "source": [
    "<font color=2f416d size=4>Linked-list示意圖</font>\n",
    "\n",
    "\n",
    "圖片來自: 1. Linked-list簡介 [SecondRound Linked-list](http://alrightchiu.github.io/SecondRound/linked-list-introjian-jie.html)"
   ]
  },
  {
   "cell_type": "code",
   "execution_count": null,
   "metadata": {
    "scrolled": true
   },
   "outputs": [],
   "source": [
    "Image(filename = \"Linked-list1.png\", width=850, height=600)  "
   ]
  },
  {
   "cell_type": "markdown",
   "metadata": {},
   "source": [
    "<font color=2f416d size=4>我對於Linked-list的想法：</font>\n",
    "\n",
    "1. Linkedlist的組成元素是Node，而Node要儲存value(val)和紀錄下一個節點的pointer(next)。\n",
    "2. Linkedlist的head要是Node，才能接著串下去。\n",
    "3. Linkedlist要能紀錄node的個數，才能知道有幾個了。"
   ]
  },
  {
   "cell_type": "markdown",
   "metadata": {},
   "source": [
    "<font color=2f416d size=4>Single Linked-list架構：</font>"
   ]
  },
  {
   "cell_type": "raw",
   "metadata": {},
   "source": [
    "Class Node:\n",
    "    val.next\n",
    "Class MyLinkedList:\n",
    "    head. length\n",
    "    get(查詢)\n",
    "    addAtHead(新增開頭)\n",
    "    addAtTail(新增結尾)\n",
    "    addAtIndex(新增在任一位置)\n",
    "    deleteAtIndex(刪除在任一位置)  "
   ]
  },
  {
   "cell_type": "markdown",
   "metadata": {},
   "source": [
    "<font color=2f416d size=4>程式碼</font>"
   ]
  },
  {
   "cell_type": "code",
   "execution_count": 1,
   "metadata": {},
   "outputs": [],
   "source": [
    "class Node:\n",
    "    def __init__(self, val):\n",
    "        self.val = val\n",
    "        self.next = None\n",
    "\n",
    "class MyLinkedList:\n",
    "    # Linked-list預設屬性\n",
    "    def __init__(self):\n",
    "        self.head = Node(-1) # linked-list開頭先設置一個虛node，後面才能啟用Node的Attribute\n",
    "        self.length = 0\n",
    "    \n",
    "    # 查詢\n",
    "    def get(self, index):\n",
    "        if index >= self.length or index < 0:\n",
    "            return -1\n",
    "        else:\n",
    "            current = self.head\n",
    "            for i in range(index):\n",
    "                current = current.next\n",
    "            return current.val\n",
    "    \n",
    "    # 新增開頭\n",
    "    def addAtHead(self, val):\n",
    "        addhead = Node(val)\n",
    "        if self.length == 0: # linked-list開頭有設置虛Node，要以length為判斷依據\n",
    "            self.head = addhead\n",
    "            addhead.next = None\n",
    "        \n",
    "        else:\n",
    "            addhead.next = self.head\n",
    "            self.head = addhead\n",
    "        self.length += 1\n",
    "        \n",
    "    # 新增結尾\n",
    "    def addAtTail(self, val):\n",
    "        addtail = Node(val)\n",
    "        if self.length == 0: # 等於是加在開頭\n",
    "            self.head = addtail\n",
    "            addtail.next = None\n",
    "        \n",
    "        else:\n",
    "            current = self.head\n",
    "            for i in range(self.length - 1): # current為目前linked-list的最後一個\n",
    "                current = current.next\n",
    "            current.next = addtail\n",
    "        self.length += 1\n",
    "    \n",
    "    # 在linked-list的某一個位置新增Node\n",
    "    def addAtIndex(self, index, val):\n",
    "        if index > self.length:\n",
    "            pass\n",
    "\n",
    "        elif self.length >= 1 and index == self.length:\n",
    "            self.addAtTail(val)\n",
    "            \n",
    "        elif index <= 0:\n",
    "            self.addAtHead(val)\n",
    "            \n",
    "        else:\n",
    "            addindex = Node(val)\n",
    "            current = self.head\n",
    "            for i in range(index - 1):\n",
    "                current = current.next\n",
    "            addindex.next = current.next\n",
    "            current.next = addindex\n",
    "            self.length += 1\n",
    "\n",
    "    # 刪除某一Node\n",
    "    def deleteAtIndex(self, index):\n",
    "        if index >= self.length or index < 0:\n",
    "            pass\n",
    "        \n",
    "        elif self.length >= 2 and index == self.length - 1:\n",
    "            current = self.head\n",
    "            for i in range(self.length - 2):\n",
    "                current = current.next\n",
    "            current.next = None\n",
    "            self.length -= 1\n",
    "            \n",
    "        elif index == 0:\n",
    "            if self.length == 1:\n",
    "                self.head = None\n",
    "            else:\n",
    "                current = self.head\n",
    "                self.head = current.next\n",
    "            self.length -= 1\n",
    "            \n",
    "        else:\n",
    "            current = self.head\n",
    "            for i in range(index - 1):\n",
    "                current = current.next\n",
    "            current.next = current.next.next\n",
    "            self.length -= 1"
   ]
  },
  {
   "cell_type": "markdown",
   "metadata": {},
   "source": [
    "<font color=2f416d size=4>執行Linked-list結果：</font>"
   ]
  },
  {
   "cell_type": "code",
   "execution_count": 3,
   "metadata": {
    "scrolled": true
   },
   "outputs": [
    {
     "name": "stdout",
     "output_type": "stream",
     "text": [
      "4\n",
      "3\n"
     ]
    }
   ],
   "source": [
    "obj = MyLinkedList()\n",
    "param_1 = obj.get(0)\n",
    "obj.addAtHead(1)\n",
    "obj.addAtTail(3)\n",
    "obj.addAtIndex(0,4)\n",
    "obj.deleteAtIndex(1)\n",
    "\n",
    "#linked-list會是[4,3]\n",
    "\n",
    "print(obj.head.val)\n",
    "print(obj.head.next.val)"
   ]
  },
  {
   "cell_type": "code",
   "execution_count": null,
   "metadata": {},
   "outputs": [],
   "source": []
  }
 ],
 "metadata": {
  "kernelspec": {
   "display_name": "Python 3",
   "language": "python",
   "name": "python3"
  },
  "language_info": {
   "codemirror_mode": {
    "name": "ipython",
    "version": 3
   },
   "file_extension": ".py",
   "mimetype": "text/x-python",
   "name": "python",
   "nbconvert_exporter": "python",
   "pygments_lexer": "ipython3",
   "version": "3.7.3"
  }
 },
 "nbformat": 4,
 "nbformat_minor": 2
}
