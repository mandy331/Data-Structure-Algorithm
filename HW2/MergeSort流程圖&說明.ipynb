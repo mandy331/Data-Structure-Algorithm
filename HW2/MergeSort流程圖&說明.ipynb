{
 "cells": [
  {
   "cell_type": "markdown",
   "metadata": {},
   "source": [
    "<font color=2f416d size=4>參考連結</font>\n",
    "\n",
    "1. [Merge sort in 3 minutes](https://www.youtube.com/watch?v=4VqmGXwpLqc)\n",
    "2. [Merge sort in Python](https://www.educative.io/edpresso/merge-sort-in-python)\n"
   ]
  },
  {
   "cell_type": "markdown",
   "metadata": {},
   "source": [
    "<font color=2f416d size=4>Merge Sort Introduction</font>\n",
    "\n",
    "&emsp; Merge Sort被稱為合併演算法。Merge Sort屬於Divide and Conquer演算法，把問題先拆解(divide)成子問題，並在逐一處理子問題後，將子問題的結果合併(conquer)，如此便解決了原先的問題。\n"
   ]
  },
  {
   "cell_type": "markdown",
   "metadata": {},
   "source": [
    "<font color=2f416d size=4>先畫個圖吧!</font></br>\n",
    "\n",
    "[MergeSort流程圖](https://github.com/mandy331/Data-Structure_PythonNote/blob/master/Week6/MergeSort.png)"
   ]
  },
  {
   "cell_type": "markdown",
   "metadata": {},
   "source": [
    "<font color=2f416d size=4>我對Merge Sort的想法：</font>\n",
    "\n",
    "看完 [MergeSort](https://www.youtube.com/watch?v=4VqmGXwpLqc) 這個影片，我歸納Merge Sort大概是以下幾個步驟：\n",
    "\n",
    "1. 將array不斷分成2份，直到每1份只剩1個Node。\n",
    "    + 若array為單數個，例如5個，則分為2和3。\n",
    "\n",
    "\n",
    "2. 將array組合起來，每次組合2份，且組合排列完Node須由小到大。\n",
    "\n",
    "\n",
    "3. 以Recursive的方式完成。\n"
   ]
  },
  {
   "cell_type": "markdown",
   "metadata": {},
   "source": [
    "<font color=2f416d size=4>程式碼架構大致會長得像下面這樣</font>"
   ]
  },
  {
   "cell_type": "code",
   "execution_count": null,
   "metadata": {},
   "outputs": [],
   "source": [
    "def MergeSort(array, first, last):\n",
    "    if first < last:\n",
    "        middle = last//2\n",
    "        MergeSort(array, first, middle)\n",
    "        MergeSort(array, middle + 1, last)\n",
    "        merge(array, first, middle, last) "
   ]
  },
  {
   "cell_type": "markdown",
   "metadata": {},
   "source": [
    "<font color=2f416d size=4>第一步：先寫Merge</font>\n",
    "\n",
    "1. 可以先確立當左list和右list都還有未排序的node時，可以兩相比較。當左list已經沒有為排序的node時，則自動填入右list的node，反之亦然，直到左右list都沒有未排序的node。\n",
    "\n",
    "2. 在這裡我是先將排序好的node放到tmp這個空間裡，以便知道哪些node已經被排序了。"
   ]
  },
  {
   "cell_type": "code",
   "execution_count": null,
   "metadata": {
    "scrolled": true
   },
   "outputs": [],
   "source": [
    "#left, right 為左右邊list\n",
    "def merge(left, right):\n",
    "    \n",
    "    size = len(left) + len(right)\n",
    "    tmp = [0] * size\n",
    "    \n",
    "    i = j = k = 0\n",
    "    while (i < len(left)) and (j < len(right)): \n",
    "        if left[i] <= right[j]:\n",
    "            tmp[k] = left[i]\n",
    "            i = i + 1\n",
    "        elif left[i] > right[j]:\n",
    "            tmp[k] = right[j]\n",
    "            j = j + 1\n",
    "        k = k + 1\n",
    "        \n",
    "    while i >= len(left) and j < len(right): \n",
    "        tmp[k] = right[j]\n",
    "        j = j + 1\n",
    "        k = k + 1\n",
    "        \n",
    "    while j >= len(right) and i < len(left): \n",
    "        tmp[k] = left[i]\n",
    "        i = i + 1\n",
    "        k = k + 1\n",
    "    \n",
    "    return tmp\n",
    "\n",
    "left = [1,2,3,5,7]\n",
    "right = [3,4,7]\n",
    "merge(left, right)"
   ]
  },
  {
   "cell_type": "markdown",
   "metadata": {},
   "source": [
    "<font color=2f416d size=4>第二步：Recursive</font>\n",
    "\n",
    "1. MergeSort需要將array拆分直到每個部分只剩一個node。\n",
    "\n",
    "\n",
    "2. 這裡需要注意的是array的index，假如array是[1,2,5,3,0]，拆成一半會分為[1,2]和[5,3,0]，分別對應到的是array[0:2]和array[2:5]"
   ]
  },
  {
   "cell_type": "code",
   "execution_count": null,
   "metadata": {},
   "outputs": [],
   "source": [
    "def MergeSort(array):\n",
    "    if len(array) > 1:\n",
    "        mid = (len(array)) //2 \n",
    "        left_array = array[:mid]\n",
    "        right_array = array[mid:]    \n",
    "        MergeSort(left_array)\n",
    "        MergeSort(right_array)\n",
    "        merge(left_array, right_array)\n",
    "    return array\n",
    "\n",
    "def merge(left, right):\n",
    "    print(left)\n",
    "    print(right)\n",
    "    size = len(left) + len(right)\n",
    "    tmp = [0] * size\n",
    "    \n",
    "    i = j = k = 0\n",
    "    while (i < len(left)) and (j < len(right)): \n",
    "        if left[i] <= right[j]:\n",
    "            tmp[k] = left[i]\n",
    "            i = i + 1\n",
    "        elif left[i] > right[j]:\n",
    "            tmp[k] = right[j]\n",
    "            j = j + 1\n",
    "        k = k + 1\n",
    "        \n",
    "    while j < len(right): # i >= len(left) and \n",
    "        tmp[k] = right[j]\n",
    "        j = j + 1\n",
    "        k = k + 1\n",
    "        \n",
    "    while i < len(left): # j >= len(right) and\n",
    "        tmp[k] = left[i]\n",
    "        i = i + 1\n",
    "        k = k + 1\n",
    "    \n",
    "    print(tmp)\n",
    "    print(\"----\")\n",
    "            "
   ]
  },
  {
   "cell_type": "code",
   "execution_count": null,
   "metadata": {
    "scrolled": true
   },
   "outputs": [],
   "source": [
    "a = [1, 9, 7, 5, 8, 2, 10, 4, 7]\n",
    "MergeSort(a)"
   ]
  },
  {
   "cell_type": "markdown",
   "metadata": {},
   "source": [
    "<font color=2f416d size=3>目前還沒做出來的地方以及遇到的問題：</font>\n",
    "\n",
    "1. Recursive的方式不夠清楚，現階段我還無法做到更新node，表示我還沒把Recursive的方式釐清和在程式碼上實現。"
   ]
  },
  {
   "cell_type": "markdown",
   "metadata": {},
   "source": [
    "<font color=2f416d size=3>時間複雜度(Time Complexity)</font>\n",
    "\n",
    "Best Case：Ο(n)\n",
    "\n",
    "Worst Case：Ο(n log n)\n",
    "\n",
    "Average Case：Ο(n log n)"
   ]
  },
  {
   "cell_type": "code",
   "execution_count": null,
   "metadata": {},
   "outputs": [],
   "source": []
  },
  {
   "cell_type": "code",
   "execution_count": null,
   "metadata": {},
   "outputs": [],
   "source": []
  },
  {
   "cell_type": "code",
   "execution_count": 4,
   "metadata": {},
   "outputs": [
    {
     "data": {
      "text/plain": [
       "[5]"
      ]
     },
     "execution_count": 4,
     "metadata": {},
     "output_type": "execute_result"
    }
   ],
   "source": [
    "class Solution(object):\n",
    "    def merge_sort(self, nums):\n",
    "        \"\"\"\n",
    "        :type nums: List[int] ex:[3,2,-4,6,4,2,19],[5,1,1,2,0,0]\n",
    "        :rtype: List[int] ex:[-4,2,2,3,4,6,19],[0,0,1,1,2,5]\n",
    "        \"\"\"\n",
    "        self.nums = nums\n",
    "        if len(self.nums) > 1:\n",
    "            mid = (len(self.nums)) //2 \n",
    "            left_array = self.nums[:mid]\n",
    "            right_array = self.nums[mid:]    \n",
    "            self.merge_sort(left_array)\n",
    "            self.merge_sort(right_array)\n",
    "            self.merge(left_array, right_array)\n",
    "        return self.nums\n",
    "\n",
    "    def merge(self, left, right):\n",
    "        size = len(left) + len(right)\n",
    "        tmp = [0] * size\n",
    "\n",
    "        i = j = k = 0\n",
    "        while (i < len(left)) and (j < len(right)): \n",
    "            if left[i] <= right[j]:\n",
    "                tmp[k] = left[i]\n",
    "                i = i + 1\n",
    "            elif left[i] > right[j]:\n",
    "                tmp[k] = right[j]\n",
    "                j = j + 1\n",
    "            k = k + 1\n",
    "\n",
    "        while j < len(right): # i >= len(left) and \n",
    "            tmp[k] = right[j]\n",
    "            j = j + 1\n",
    "            k = k + 1\n",
    "\n",
    "        while i < len(left): # j >= len(right) and\n",
    "            tmp[k] = left[i]\n",
    "            i = i + 1\n",
    "            k = k + 1\n",
    "        \n",
    "        return tmp\n",
    "\n",
    "output = Solution().merge_sort([3,4,1,4,7,5])\n",
    "output"
   ]
  },
  {
   "cell_type": "code",
   "execution_count": null,
   "metadata": {},
   "outputs": [],
   "source": []
  },
  {
   "cell_type": "code",
   "execution_count": null,
   "metadata": {},
   "outputs": [],
   "source": []
  }
 ],
 "metadata": {
  "kernelspec": {
   "display_name": "Python 3",
   "language": "python",
   "name": "python3"
  },
  "language_info": {
   "codemirror_mode": {
    "name": "ipython",
    "version": 3
   },
   "file_extension": ".py",
   "mimetype": "text/x-python",
   "name": "python",
   "nbconvert_exporter": "python",
   "pygments_lexer": "ipython3",
   "version": "3.7.3"
  }
 },
 "nbformat": 4,
 "nbformat_minor": 2
}
