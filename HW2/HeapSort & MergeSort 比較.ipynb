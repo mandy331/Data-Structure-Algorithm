{
 "cells": [
  {
   "cell_type": "markdown",
   "metadata": {},
   "source": [
    "<font color=2f416d size=4>參考連結</font>\n",
    "\n",
    "1. [比较排序算法](https://www.cnblogs.com/gaochundong/p/comparison_sorting_algorithms.html#merge_sort)"
   ]
  },
  {
   "cell_type": "markdown",
   "metadata": {},
   "source": [
    "<font color=2f416d size=4>HeapSort和MergeSort的比較</font>\n",
    "\n",
    "1. 以 Time Complexity來看：\n",
    "    + HeapSort和MergeSort平均和最壞情況都需要O(nlogn)的時間，而MergeSort的最好情況卻可以只花O(n)的時間，比起HeapSort最好情況的O(nlogn)來說少掉很多。\n",
    "\n",
    "\n",
    "2. 以 儲存空間 來看：\n",
    "    + HeapSort需要多O(1)的儲存空間，而MergeSort則需要多O(n)的儲存空間，主要是因為MergeSort會兩兩比較list後，需要n個多的位置來兩兩合併排序。\n",
    "   \n",
    "  \n",
    "3. 以 穩定度 來看：\n",
    "    + HeapSort較不穩定，因為其排序前後，可能同樣的值會有在排序後前後排序不同，意思是同樣是5，經過HeapSort後可能原本在前面的5和後面的5位置掉換。\n",
    "    + 而MergeSort相較來說穩定很多，因為其排序前後，同樣的值能在前後維持同樣前後排序。\n"
   ]
  }
 ],
 "metadata": {
  "kernelspec": {
   "display_name": "Python 3",
   "language": "python",
   "name": "python3"
  },
  "language_info": {
   "codemirror_mode": {
    "name": "ipython",
    "version": 3
   },
   "file_extension": ".py",
   "mimetype": "text/x-python",
   "name": "python",
   "nbconvert_exporter": "python",
   "pygments_lexer": "ipython3",
   "version": "3.7.3"
  }
 },
 "nbformat": 4,
 "nbformat_minor": 2
}
