{
 "cells": [
  {
   "cell_type": "markdown",
   "metadata": {},
   "source": [
    "<font color=2f416d size=4>Heap Sort Introduction</font></br>\n",
    "\n",
    "&emsp; Heap Sort被稱為堆積排序法，此處為Binary Heap(二元堆積法)的結構。\n",
    "\n",
    "\n",
    "&emsp; Heap（堆積）是一顆二元樹，而當結構為Max Heap時，樹上所有父節點的值都大於等於他的子節點的值。\n"
   ]
  },
  {
   "cell_type": "markdown",
   "metadata": {},
   "source": [
    "<font color=2f416d size=4>What is Binary Heap?</font></br>\n",
    "\n",
    "1. Binary Heap的結構是按照順序依次填入的，可以把Node想像成爸爸生的小孩，越大的小孩越早有小孩，因此Binary Heap的堆會由左至右排列，不會右邊的有Node而左邊沒有。\n",
    "    + 數值1-9，按照Binary Heap的結構填入，可以填滿位置0-8，以index[0]-index[8]表示。\n",
    "    + 優點是方便尋找「parent和child」，以index[i]的Node為例:\n",
    "        + 其left-child為index[2i+1]\n",
    "        + 其right-child為index[2i+2]\n",
    "        + 其parent為index[i/2-1]\n",
    "\n",
    "\n",
    "2. 每一個Node(index[i])都被視為小堆的Top(頂端Node)，那麼可將此Binary Heap分為兩類：\n",
    "    + Max Heap：在每一個小堆中，Top之「數值」要比兩個child之「數值」還要**大**。\n",
    "    + Min Heap：在每一個小堆中，Top之「數值」要比兩個child之「數值」還要**小**。\n",
    "\n"
   ]
  },
  {
   "cell_type": "markdown",
   "metadata": {},
   "source": [
    "<font color=2f416d size=4>先畫個圖吧!</font></br>\n"
   ]
  },
  {
   "cell_type": "markdown",
   "metadata": {},
   "source": [
    "<font color=2f416d size=4>我對於Heap Sort的理解：</font></br>\n",
    "\n",
    "看完 [Heap Sort](https://www.youtube.com/watch?v=MtQL_ll5KhQ) 這個影片，我歸納Heap Sort大概是以下幾個步驟：\n",
    "\n",
    "1. 從0開始，建立Heap。\n",
    "\n",
    "2. 建立Max Heap，由上而下(Index[0]開始)，確認每一層的父節點的值大於子節點，若父節點的值小於子節點則交換位置，繼續下一層的確認。\n",
    "\n",
    "3. 當每一個父節點的值都比子節點大時，即停止尋找，Heap最上面的值為整個Heap的最大值且為Index[0]，將Heap中的Index[0]和Index[last] (最後一個Heap的點)交換，並刪除掉Index[last] (此時已經被換成最大值了)，同時待排序的最右邊Index要-1。\n",
    "\n",
    "4. 重複以上2.3步驟，直到Heap只剩待排序的元素只剩一個即停止。\n"
   ]
  },
  {
   "cell_type": "code",
   "execution_count": 24,
   "metadata": {},
   "outputs": [],
   "source": [
    "def HeapSort(array):\n",
    "    if type(array) is list:\n",
    "        runHeapSort(array, 0, len(array))\n",
    "    return array\n",
    "    \n",
    "def runHeapSort(array, left_index, right_index): \n",
    "    length = len(array)\n",
    "    cur_largest = MaxHeapify(array, index)\n",
    "    if cur_largest < length:\n",
    "        MaxHeapify(array, cur_largest)\n",
    "    \n",
    "def MaxHeapify(array, index):\n",
    "    \n",
    "    length = len(array)\n",
    "    left_child = 2 * index + 1\n",
    "    right_child = 2 * index + 2\n",
    "    \n",
    "    \n",
    "    if left_child > length: # 沒有child-node\n",
    "        largest = left_child\n",
    "        return largest\n",
    "    \n",
    "    if left_child < length and right_child > length: # 有一個child-node\n",
    "        \n",
    "        if array[index] > array[left_child]:\n",
    "            largest = left_child\n",
    "            \n",
    "        array[index], array[largest] = array[largest], array[index]\n",
    "        return largest\n",
    "                \n",
    "    if right_child < length: # 有兩個child-node\n",
    "        \n",
    "        if not array[index] > array[left_child] and array[index] > array[right_child]:\n",
    "\n",
    "            if array[left_child] < array[right_child]:\n",
    "                largest = right_child\n",
    "\n",
    "            else:\n",
    "                largest = left_child\n",
    "\n",
    "            array[index], array[largest] = array[largest], array[index]\n",
    "\n",
    "            return largest\n",
    "        "
   ]
  },
  {
   "cell_type": "code",
   "execution_count": 25,
   "metadata": {},
   "outputs": [
    {
     "data": {
      "text/plain": [
       "[7, 5, 3, 1, 4]"
      ]
     },
     "execution_count": 25,
     "metadata": {},
     "output_type": "execute_result"
    }
   ],
   "source": [
    "a = [3,5,7,1,4]\n",
    "HeapSort(a)"
   ]
  },
  {
   "cell_type": "code",
   "execution_count": null,
   "metadata": {},
   "outputs": [],
   "source": []
  },
  {
   "cell_type": "code",
   "execution_count": null,
   "metadata": {},
   "outputs": [],
   "source": []
  },
  {
   "cell_type": "code",
   "execution_count": null,
   "metadata": {},
   "outputs": [],
   "source": []
  },
  {
   "cell_type": "code",
   "execution_count": null,
   "metadata": {},
   "outputs": [],
   "source": []
  },
  {
   "cell_type": "code",
   "execution_count": null,
   "metadata": {},
   "outputs": [],
   "source": []
  },
  {
   "cell_type": "code",
   "execution_count": null,
   "metadata": {},
   "outputs": [],
   "source": []
  },
  {
   "cell_type": "code",
   "execution_count": null,
   "metadata": {},
   "outputs": [],
   "source": []
  }
 ],
 "metadata": {
  "kernelspec": {
   "display_name": "Python 3",
   "language": "python",
   "name": "python3"
  },
  "language_info": {
   "codemirror_mode": {
    "name": "ipython",
    "version": 3
   },
   "file_extension": ".py",
   "mimetype": "text/x-python",
   "name": "python",
   "nbconvert_exporter": "python",
   "pygments_lexer": "ipython3",
   "version": "3.7.3"
  }
 },
 "nbformat": 4,
 "nbformat_minor": 2
}
