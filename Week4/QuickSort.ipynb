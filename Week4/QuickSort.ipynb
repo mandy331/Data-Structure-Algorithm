{
 "cells": [
  {
   "cell_type": "markdown",
   "metadata": {},
   "source": [
    "# Quick Sort"
   ]
  },
  {
   "cell_type": "raw",
   "metadata": {},
   "source": [
    "presuedo code:\n",
    "    Sub Quicksort(Data(), left, right):\n",
    "        If left < right:\n",
    "            PivotPartiton = Partition(Data, left, right) # PivotPartition return resting position of pivot value \n",
    "            Quicksort(Data, left, PivotPartition - 1)\n",
    "            Quicksort(Data, PivotPartition + 1, right)\n",
    "        End If\n",
    "    End Sub\n"
   ]
  },
  {
   "cell_type": "markdown",
   "metadata": {},
   "source": [
    "## Input => list"
   ]
  },
  {
   "cell_type": "code",
   "execution_count": 1,
   "metadata": {},
   "outputs": [],
   "source": [
    "def Quicksort(data):\n",
    "    runQuickSort(data, 0, len(data)-1)"
   ]
  },
  {
   "cell_type": "code",
   "execution_count": 2,
   "metadata": {},
   "outputs": [],
   "source": [
    "def runQuickSort(data, left, right):\n",
    "    if left < right:\n",
    "        PivotPartition = Partition(data, left, right)\n",
    "        runQuickSort(data, left, PivotPartition - 1)\n",
    "        runQuickSort(data, PivotPartition + 1, right)"
   ]
  },
  {
   "cell_type": "code",
   "execution_count": 3,
   "metadata": {},
   "outputs": [],
   "source": [
    "def Partition(data, left, right):\n",
    "    Pivot = data[right]\n",
    "    left_index = left # 2\n",
    "    right_index = right - 1 # 3-1 = 2\n",
    "    while left_index <= right_index:\n",
    "        print(\"left_index:\" + str(left_index)+\" \"+\"right_index:\"+str(right_index)+\" \"+\"right:\"+str(right))\n",
    "        if data[left_index] <= data[right]:\n",
    "            print(str(data[left_index])+\"<=\"+str(data[right]))\n",
    "            left_index += 1\n",
    "            print(data)\n",
    "        else:\n",
    "            #print(str(data[left_index])+\">\"+str(data[right]))\n",
    "            tmp = data[left_index]\n",
    "            del data[left_index]\n",
    "            right_index -= 1\n",
    "            right -= 1\n",
    "            data.insert(right+1,tmp)\n",
    "            print(data)\n",
    "    print(\"------------------------------------------\")\n",
    "    return right"
   ]
  },
  {
   "cell_type": "code",
   "execution_count": 4,
   "metadata": {},
   "outputs": [
    {
     "name": "stdout",
     "output_type": "stream",
     "text": [
      "left_index:0 right_index:8 right:9\n",
      "1<=50\n",
      "[1, 9, 7, 30, 8, 23, 6, 3, 12, 50]\n",
      "left_index:1 right_index:8 right:9\n",
      "9<=50\n",
      "[1, 9, 7, 30, 8, 23, 6, 3, 12, 50]\n",
      "left_index:2 right_index:8 right:9\n",
      "7<=50\n",
      "[1, 9, 7, 30, 8, 23, 6, 3, 12, 50]\n",
      "left_index:3 right_index:8 right:9\n",
      "30<=50\n",
      "[1, 9, 7, 30, 8, 23, 6, 3, 12, 50]\n",
      "left_index:4 right_index:8 right:9\n",
      "8<=50\n",
      "[1, 9, 7, 30, 8, 23, 6, 3, 12, 50]\n",
      "left_index:5 right_index:8 right:9\n",
      "23<=50\n",
      "[1, 9, 7, 30, 8, 23, 6, 3, 12, 50]\n",
      "left_index:6 right_index:8 right:9\n",
      "6<=50\n",
      "[1, 9, 7, 30, 8, 23, 6, 3, 12, 50]\n",
      "left_index:7 right_index:8 right:9\n",
      "3<=50\n",
      "[1, 9, 7, 30, 8, 23, 6, 3, 12, 50]\n",
      "left_index:8 right_index:8 right:9\n",
      "12<=50\n",
      "[1, 9, 7, 30, 8, 23, 6, 3, 12, 50]\n",
      "------------------------------------------\n",
      "left_index:0 right_index:7 right:8\n",
      "1<=12\n",
      "[1, 9, 7, 30, 8, 23, 6, 3, 12, 50]\n",
      "left_index:1 right_index:7 right:8\n",
      "9<=12\n",
      "[1, 9, 7, 30, 8, 23, 6, 3, 12, 50]\n",
      "left_index:2 right_index:7 right:8\n",
      "7<=12\n",
      "[1, 9, 7, 30, 8, 23, 6, 3, 12, 50]\n",
      "left_index:3 right_index:7 right:8\n",
      "[1, 9, 7, 8, 23, 6, 3, 12, 30, 50]\n",
      "left_index:3 right_index:6 right:7\n",
      "8<=12\n",
      "[1, 9, 7, 8, 23, 6, 3, 12, 30, 50]\n",
      "left_index:4 right_index:6 right:7\n",
      "[1, 9, 7, 8, 6, 3, 12, 23, 30, 50]\n",
      "left_index:4 right_index:5 right:6\n",
      "6<=12\n",
      "[1, 9, 7, 8, 6, 3, 12, 23, 30, 50]\n",
      "left_index:5 right_index:5 right:6\n",
      "3<=12\n",
      "[1, 9, 7, 8, 6, 3, 12, 23, 30, 50]\n",
      "------------------------------------------\n",
      "left_index:0 right_index:4 right:5\n",
      "1<=3\n",
      "[1, 9, 7, 8, 6, 3, 12, 23, 30, 50]\n",
      "left_index:1 right_index:4 right:5\n",
      "[1, 7, 8, 6, 3, 9, 12, 23, 30, 50]\n",
      "left_index:1 right_index:3 right:4\n",
      "[1, 8, 6, 3, 7, 9, 12, 23, 30, 50]\n",
      "left_index:1 right_index:2 right:3\n",
      "[1, 6, 3, 8, 7, 9, 12, 23, 30, 50]\n",
      "left_index:1 right_index:1 right:2\n",
      "[1, 3, 6, 8, 7, 9, 12, 23, 30, 50]\n",
      "------------------------------------------\n",
      "left_index:2 right_index:4 right:5\n",
      "6<=9\n",
      "[1, 3, 6, 8, 7, 9, 12, 23, 30, 50]\n",
      "left_index:3 right_index:4 right:5\n",
      "8<=9\n",
      "[1, 3, 6, 8, 7, 9, 12, 23, 30, 50]\n",
      "left_index:4 right_index:4 right:5\n",
      "7<=9\n",
      "[1, 3, 6, 8, 7, 9, 12, 23, 30, 50]\n",
      "------------------------------------------\n",
      "left_index:2 right_index:3 right:4\n",
      "6<=7\n",
      "[1, 3, 6, 8, 7, 9, 12, 23, 30, 50]\n",
      "left_index:3 right_index:3 right:4\n",
      "[1, 3, 6, 7, 8, 9, 12, 23, 30, 50]\n",
      "------------------------------------------\n",
      "left_index:7 right_index:7 right:8\n",
      "23<=30\n",
      "[1, 3, 6, 7, 8, 9, 12, 23, 30, 50]\n",
      "------------------------------------------\n",
      "[1, 3, 6, 7, 8, 9, 12, 23, 30, 50]\n"
     ]
    }
   ],
   "source": [
    "alist = [1,9,7,30,8,23,6,3,12,50]\n",
    "Quicksort(alist)\n",
    "print(alist)"
   ]
  },
  {
   "cell_type": "markdown",
   "metadata": {},
   "source": [
    "## Input => linked-list (待完成)"
   ]
  },
  {
   "cell_type": "code",
   "execution_count": null,
   "metadata": {},
   "outputs": [],
   "source": []
  }
 ],
 "metadata": {
  "kernelspec": {
   "display_name": "Python 3",
   "language": "python",
   "name": "python3"
  },
  "language_info": {
   "codemirror_mode": {
    "name": "ipython",
    "version": 3
   },
   "file_extension": ".py",
   "mimetype": "text/x-python",
   "name": "python",
   "nbconvert_exporter": "python",
   "pygments_lexer": "ipython3",
   "version": "3.7.3"
  }
 },
 "nbformat": 4,
 "nbformat_minor": 2
}
