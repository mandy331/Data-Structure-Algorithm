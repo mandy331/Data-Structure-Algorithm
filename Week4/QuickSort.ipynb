{
 "cells": [
  {
   "cell_type": "markdown",
   "metadata": {},
   "source": [
    "<font color=2f416d size=4>Quick Sort Introduction</font></br>\n",
    "\n",
    "&emsp; 一種排序的方法，排列方法是先選定一個**基準(Pivot)**，將每一個Node和Pivot比較，若比Pivot小則不動，若比Pivot大則將Node移到Pivot後面，在經過一輪後，Pivot之前的Node都比Pivot小，而Pivot後面的Node都比Pivot大，也在Pivot前後形成2個sublist，接著從sublist中再選定Pivot，繼續比較，直到最後每個sublist都只剩一個Node即停止。\n"
   ]
  },
  {
   "cell_type": "markdown",
   "metadata": {},
   "source": [
    "<font color=2f416d size=4>時間複雜度(Time Complexity)</font></br>\n",
    "\n",
    "Best Case：Ο(n log n)\n",
    "\n",
    "Worst Case：Ο(n^2)　\n",
    "\n",
    "Average Case：Ο(n log n)"
   ]
  },
  {
   "cell_type": "markdown",
   "metadata": {},
   "source": [
    "<font color=2f416d size=4>參考連結</font></br>\n",
    "\n",
    "1. 快速了解QuickSort [Quick Sort - Udacity YouTube 03:22](https://www.youtube.com/watch?v=kUon6854joI)\n",
    "2. 講解Recurrsive的QuickSort [Quicksort 3 – Recursive Pseudocode 09:56](https://www.youtube.com/watch?time_continue=2&v=0Ds3KqYeXzA)\n",
    "3. 超級詳細的QuickSort介紹 [Quick Sort(快速排序法)](http://alrightchiu.github.io/SecondRound/comparison-sort-quick-sortkuai-su-pai-xu-fa.html#insertionsort)"
   ]
  },
  {
   "cell_type": "markdown",
   "metadata": {},
   "source": [
    "<font color=2f416d size=4>presuedo code</font></br>"
   ]
  },
  {
   "cell_type": "raw",
   "metadata": {},
   "source": [
    "presuedo code:\n",
    "    Sub Quicksort(Data(), left, right):\n",
    "        If left < right:\n",
    "            PivotPartiton = Partition(Data, left, right) # PivotPartition return resting position of pivot value \n",
    "            Quicksort(Data, left, PivotPartition - 1)\n",
    "            Quicksort(Data, PivotPartition + 1, right)\n",
    "        End If\n",
    "    End Sub"
   ]
  },
  {
   "cell_type": "markdown",
   "metadata": {},
   "source": [
    "<font color=2f416d size=4>我對presuedo的理解：</font></br>\n",
    "\n",
    "1. 傳入一串序列和前後Index。\n",
    "2. 當前Index(left)小於後Index(right)時，就進行排序(Partition)，並回傳Pivot的位置(PivotPartition)。\n",
    "3. 當得到一個回傳的PivotPartition時，即呼叫自己這個function(QuickSort)，但是放入的參數則將right改為PivotPartion - 1，意思是對Pivot前的list進行排序，並回傳Pivot的位置。\n",
    "4. 直到最前面的sublist個數為1，即再呼叫自己這個function(QuickSort)，放入的參數則將left改為PivotPartion + 1，對右邊的list進行排序。\n",
    "5. 直到每個sublist都只剩一個item。"
   ]
  },
  {
   "cell_type": "markdown",
   "metadata": {},
   "source": [
    "<font color=2f416d size=4>Chart</font></br>\n",
    "&emsp; \n",
    "\n",
    "總感覺還不是很清楚，不如畫個圖吧！\n",
    "\n",
    "[Quick Sort](https://github.com/mandy331/Data-Structure_PythonNote/blob/master/Week4/QuickSort.png)"
   ]
  },
  {
   "cell_type": "markdown",
   "metadata": {},
   "source": [
    "<font color=2f416d size=4>我的想法是：</font></br>\n",
    "\n",
    "1. First Run : \n",
    "    + 選擇list的最後一個Node作為Pivot\n",
    "    + 比Pivot小的原地不動\n",
    "    + 比Pivot大的則移到Pivot的後面一個，因此Pivot跟著前進一個\n",
    "    + 直到Pivot前面的Node已經是比較過的\n",
    "    + 那麼Pivot所在位置就確定了，回傳Pivot位置，和調整過後的data(list)\n",
    "\n",
    "\n",
    "2. Next Run : \n",
    "    + 先看Pivot前面的sublist(data, 0, PivotPartition - 1)\n",
    "    + Repart First Run \n",
    "    + 當最前面的sublist個數為1時，就轉而看Pivot後面的sublist(data, PivotPartiotion + 1, right)\n",
    "    + 每一次都回傳Pivot的位置和調整過後的data(list)\n",
    "    \n"
   ]
  },
  {
   "cell_type": "markdown",
   "metadata": {},
   "source": [
    "<font color=2f416d size=4>程式碼</font></br>"
   ]
  },
  {
   "cell_type": "code",
   "execution_count": 33,
   "metadata": {},
   "outputs": [],
   "source": [
    "class QuickSort: #建立名為QuickSort的類別\n",
    "    \n",
    "    def __init__(self, data): \n",
    "        if type(data) is list:\n",
    "            self.data = data  #限制傳入QuickSort的data為list型態\n",
    "    \n",
    "    def main(self): \n",
    "        self.run(0,len(self.data)-1) # 執行此function，就會開始進入排序流程\n",
    "        return self.data # 回傳排序好的list\n",
    "        \n",
    "    def run(self, left, right): \n",
    "        if left < right: \n",
    "            IndexPivot = self.sorting(self.data, left, right) # 回傳Pivot的Index和調整過後的data(list)\n",
    "            self.run(left, IndexPivot - 1) # 處理IndexPivot左邊的sublist\n",
    "            self.run(IndexPivot + 1, right) # 處理IndexPivot右邊的sublist\n",
    "        \n",
    "    def sorting(self, data, left, right):\n",
    "        Pivot = data[right] #選擇list的最右邊作為Pivot\n",
    "        left_index = left #待排序list的最左邊\n",
    "        right_index = right - 1 #待排序list的最右邊 \n",
    "        \n",
    "        while left_index <= right_index: #當left_index = right_index時仍剩下一個數字仍未排序\n",
    "\n",
    "            if data[left_index] <= data[right]: #當該數字小於等於Pivot時，left_index往後挪一個，同時不移動該數字\n",
    "                left_index += 1\n",
    "\n",
    "            else:\n",
    "                original_right = data[right_index]\n",
    "                tmp = data[left_index]\n",
    "                data[right_index], data[right] = Pivot, original_right #將Pivot和Pivot前一格數字交換\n",
    "                if original_right != tmp: #當Pivot前面的數字為最後一個需要調整的數字時，不進行交換\n",
    "                    data[left_index], data[right] = original_right , tmp #將大的數字和原Pivot前一個數字交換\n",
    "                right_index -= 1\n",
    "                right -= 1\n",
    "                self.data = data #覆寫調整過後的list\n",
    "\n",
    "        return right\n",
    "        "
   ]
  },
  {
   "cell_type": "code",
   "execution_count": 37,
   "metadata": {},
   "outputs": [
    {
     "data": {
      "text/plain": [
       "[0, 1, 2, 3, 3, 4, 5, 14]"
      ]
     },
     "execution_count": 37,
     "metadata": {},
     "output_type": "execute_result"
    }
   ],
   "source": [
    "list1 = [3,4,5,2,3,14,0,1]\n",
    "b = QuickSort(list1)\n",
    "b.main()"
   ]
  },
  {
   "cell_type": "markdown",
   "metadata": {},
   "source": [
    "<font color=2f416d size=4>驗證</font></br>"
   ]
  },
  {
   "cell_type": "code",
   "execution_count": 35,
   "metadata": {},
   "outputs": [],
   "source": [
    "import random \n",
    "\n",
    "num = 100\n",
    "list1 = [k for k in range(num + 2)]\n",
    "random_list = []\n",
    "for i in range(2,num + 2):\n",
    "    random_list.append(random.sample(list1, i)) # 隨機生成100個list，list內的數字範圍介於0到101"
   ]
  },
  {
   "cell_type": "code",
   "execution_count": 36,
   "metadata": {
    "scrolled": true
   },
   "outputs": [],
   "source": [
    "correct = []\n",
    "for i in random_list: \n",
    "    sortlist = sorted(i) # 排序好的100個list\n",
    "    bb = QuickSort(i).main() # 利用QuickSort排序好的list\n",
    "    if bb == sortlist: # 若用QuickSort排好的list 等於 排序好的list\n",
    "        correct.append(1) \n",
    "    else:\n",
    "        correct.append(0)"
   ]
  },
  {
   "cell_type": "code",
   "execution_count": 5,
   "metadata": {},
   "outputs": [
    {
     "name": "stdout",
     "output_type": "stream",
     "text": [
      "對的次數:100\n",
      "錯的次數:0\n"
     ]
    }
   ],
   "source": [
    "print(\"對的次數:\" + str(sum(correct)))\n",
    "print(\"錯的次數:\" + str(num - sum(correct)))"
   ]
  },
  {
   "cell_type": "markdown",
   "metadata": {},
   "source": [
    "<font color=2f416d size=4>小小的心得</font></br>\n",
    "\n",
    "&emsp; 一開始的時候，對於QuickSort一點頭緒都沒有，想說Insertion Sort是基礎的話，先弄清楚Insertion Sort好了，結果把老師給的InsertionSort的流程圖搞懂就花了兩、三天吧，然後想說要照流程圖寫程式碼，結果還是寫不太出來，於是我就去看了LeetCode上大神寫的程式碼，那個大神畫了一個很簡單的概念圖，就按那個概念圖把程式碼放在下面，**我就覺得好像理解別人的流程圖未必能幫我自己寫出程式碼**，因為那畢竟是人家的邏輯，後來我就想說還是我自己把每一次的變化都列下來好了，結果真的好很多，就是把一次的移動調整都畫下來，然後去寫寫程式碼看能不能實現，現在這個版本，也是試了好幾次，最後有試出來真的是蠻有成就感的((撒花!!!"
   ]
  },
  {
   "cell_type": "markdown",
   "metadata": {},
   "source": [
    "<font color=2f416d size=4>感覺可以再用LinkedList的玩玩看，待完成!</font></br>"
   ]
  }
 ],
 "metadata": {
  "kernelspec": {
   "display_name": "Python 3",
   "language": "python",
   "name": "python3"
  },
  "language_info": {
   "codemirror_mode": {
    "name": "ipython",
    "version": 3
   },
   "file_extension": ".py",
   "mimetype": "text/x-python",
   "name": "python",
   "nbconvert_exporter": "python",
   "pygments_lexer": "ipython3",
   "version": "3.7.3"
  }
 },
 "nbformat": 4,
 "nbformat_minor": 2
}
