{
 "cells": [
  {
   "cell_type": "markdown",
   "metadata": {},
   "source": [
    "<font color=2f416d size=4>參考連結</font>\n",
    "\n",
    "1. [HeapSort](https://www.youtube.com/watch?v=MtQL_ll5KhQ)\n",
    "2. [Heap sort in 4 minutes](https://www.youtube.com/watch?v=2DmK_H7IdTo)\n",
    "3. [Comparison Sort: Heap Sort(堆積排序法)](http://alrightchiu.github.io/SecondRound/comparison-sort-heap-sortdui-ji-pai-xu-fa.html)"
   ]
  },
  {
   "cell_type": "markdown",
   "metadata": {},
   "source": [
    "<font color=2f416d size=4>Heap Sort Introduction</font>\n",
    "\n",
    "&emsp; Heap Sort被稱為堆積排序法，此處為Binary Heap(二元堆積法)的結構。\n"
   ]
  },
  {
   "cell_type": "markdown",
   "metadata": {},
   "source": [
    "<font color=2f416d size=4>What is Binary Heap?</font>\n",
    "\n",
    "1. Binary Heap的結構是按照順序依次填入的，可以把Node想像成爸爸生的小孩，越大的小孩越早有小孩，因此Binary Heap的堆會由左至右排列，不會右邊的有Node而左邊沒有。\n",
    "    + 數值1-9，按照Binary Heap的結構填入，可以填滿位置0-8，以index[0]-index[8]表示。\n",
    "    + 優點是方便尋找「parent和child」，以index[i]的Node為例:\n",
    "        + 其left-child為index[2i+1]\n",
    "        + 其right-child為index[2i+2]\n",
    "        + 其parent為index[i/2-1]\n",
    "\n",
    "\n",
    "2. 每一個Node(index[i])都被視為小堆的Top(頂端Node)，那麼可將此Binary Heap分為兩類：\n",
    "    + Max Heap：在每一個小堆中，Top之「數值」要比兩個child之「數值」還要**大**。\n",
    "    + Min Heap：在每一個小堆中，Top之「數值」要比兩個child之「數值」還要**小**。\n",
    "\n"
   ]
  },
  {
   "cell_type": "markdown",
   "metadata": {},
   "source": [
    "<font color=2f416d size=4>先畫個圖吧!</font></br>"
   ]
  },
  {
   "cell_type": "code",
   "execution_count": null,
   "metadata": {},
   "outputs": [],
   "source": [
    "from IPython.display import Image\n",
    "# Image(filename = \"HeapSort_v2.png\", height = 500, width = 1000)"
   ]
  },
  {
   "cell_type": "markdown",
   "metadata": {},
   "source": [
    "<font color=2f416d size=4>我對Heap Sort的想法：</font>\n",
    "\n",
    "看完 [HeapSort](https://www.youtube.com/watch?v=MtQL_ll5KhQ) 這個影片，我歸納Heap Sort大概是以下幾個步驟：\n",
    "\n",
    "1. 從0開始，建立Max Heap。\n",
    "\n",
    "2. 建立Max Heap，由上而下(Index[0]開始)，確認每一層的父節點的值大於子節點，若父節點的值小於子節點則交換位置，繼續下一層的確認。\n",
    "\n",
    "3. 當每一個父節點的值都比子節點大時，即停止尋找，Heap最上面的值為整個Heap的最大值且為Index[0]，將Heap中的Index[0]和Index[last] (最後一個Heap的點)交換，並刪除掉Index[last] (此時已經被換成最大值了)，待排序的heapsize要-1。\n",
    "\n",
    "4. 重複以上2.3步驟，直到Heap待排序的元素只剩一個即停止。\n"
   ]
  },
  {
   "cell_type": "markdown",
   "metadata": {},
   "source": [
    "<font color=2f416d size=4>Pseudocode加深理解</font>\n",
    "\n",
    "[Heap sort in 4 minutes](https://www.youtube.com/watch?v=2DmK_H7IdTo)\n"
   ]
  },
  {
   "cell_type": "raw",
   "metadata": {},
   "source": [
    "Heapsort(A as array) \n",
    "   BuildMaxHeap(A) # create max heap from unsorted array\n",
    "   for i = n to 1 # from backward to forward \n",
    "      swap(A[1],A[i])\n",
    "      n = n - 1\n",
    "      Heapify(A, 1) # from top to buttom\n",
    "\n",
    "\n",
    "BuildMaxHeap(A as array)\n",
    "   n = elements_in(A)\n",
    "   for i = floor(n/2) to 1 # floor(x)回傳小於或等於x的最大整數值。\n",
    "      Heapify(A, i)\n",
    "\n",
    "\n",
    "Heapify(A as array, i as int) # similar to BuildMaxHeap, but assumes parts of array is already sorted \n",
    "   left = 2i\n",
    "   right = 2i + 1\n",
    "   if (left <= n) and (A[left] > A[i])\n",
    "      Max = left\n",
    "   else\n",
    "      Max = i \n",
    "   if (right <= n) and (A[right] > A[Max])\n",
    "      Max = right\n",
    "   if (Max != i) \n",
    "      Swap(A[i], A[Max])\n",
    "      Heapify(A, Max)\n"
   ]
  },
  {
   "cell_type": "markdown",
   "metadata": {},
   "source": [
    "<font color=2f416d size=4>我對pseudocode的觀察：</font>\n",
    "\n",
    "1. 可以看到pseudocode將HeapSort分為三個部分，分別是：\n",
    "    + HeapSort：主程式，用來Run整個HeapSort的流程。\n",
    "    + BuildMaxHeap：建立第一個Heap\n",
    "    + Heapify：將Heap排序，當父節點小於子節點時，把較大的子節點Index以Max記錄下來，當Max不為i時，即交換Node，且下一次從Max開始Heapify\n",
    "   \n",
    "   \n",
    "2. Heapify是先拿i和left比，比較大的記錄下來，再拿大的和right比，比較大的紀錄下來，這跟我原本的想法不太一樣，就是我原本是想同時比，但是我這樣子寫的話就不夠簡潔。"
   ]
  },
  {
   "cell_type": "markdown",
   "metadata": {},
   "source": [
    "<font color=2f416d size=4>程式碼</font>"
   ]
  },
  {
   "cell_type": "markdown",
   "metadata": {},
   "source": [
    "<font color=2f416d size=3>第一步：Build Max Heap</font>\n",
    "\n",
    "1. BuildMaxHeap類似於Heapify，但是處理的是完全未經排序的array，上述參考的pseudocode是由array的後面檢查回來(Sift-Up)，交換Node後，最大的Node會留在Heap最上面，***我試著由前往後檢查array，所以試了由前往後的寫法，但是由前往後試過發現不成功。***\n",
    "\n",
    "\n",
    "2. BuildMaxHeap在進行Heapify的時候要檢查的child-node的root只有n//2個，不然會多檢查好幾次浪費時間。"
   ]
  },
  {
   "cell_type": "code",
   "execution_count": 5,
   "metadata": {},
   "outputs": [
    {
     "data": {
      "text/plain": [
       "[6, 5, 4, 3, 2, 1]"
      ]
     },
     "execution_count": 5,
     "metadata": {},
     "output_type": "execute_result"
    }
   ],
   "source": [
    "# 實驗一：pseudocode的版本，BuildMaxHeap 由後往前 Heapify\n",
    "def HeapSort(array):\n",
    "    length = len(array)\n",
    "    BuildMaxHeap(array, length)\n",
    "    return array\n",
    "\n",
    "def BuildMaxHeap(array, length): \n",
    "    for j in range(length//2 + 1):\n",
    "        i = length//2 - j        # 由後往前 Heapify\n",
    "        Heapify(array, i, length)\n",
    "\n",
    "def Heapify(array, i, length):\n",
    "    left = 2 * i + 1\n",
    "    right = 2 * i + 2\n",
    "\n",
    "    if left <= length - 1 and array[left] > array[i]: # 比較時先和左邊child-node比較，並且把比較大的紀錄下來，再去和右邊child-node比較\n",
    "        Max = left\n",
    "    else:\n",
    "        Max = i\n",
    "    if right <= length - 1 and array[right] > array[Max]: \n",
    "        Max = right\n",
    "    if Max != i:                                     # 當發現最大值不是parent-node時，就將最大的child-node和parent-node位置交換。\n",
    "        array[i], array[Max] = array[Max], array[i]  \n",
    "        Heapify(array, Max, length)                  # 從原本最大值Node的index，開始繼續向下排序。\n",
    "\n",
    "a = [3,2,1,5,6,4]\n",
    "HeapSort(a)"
   ]
  },
  {
   "cell_type": "code",
   "execution_count": 6,
   "metadata": {
    "scrolled": true
   },
   "outputs": [
    {
     "data": {
      "text/plain": [
       "[3, 6, 4, 5, 2, 1]"
      ]
     },
     "execution_count": 6,
     "metadata": {},
     "output_type": "execute_result"
    }
   ],
   "source": [
    "# 實驗二：我自己流程圖的版本，BuildMaxHeap 由前往後 Heapify\n",
    "def HeapSort(array):\n",
    "    length = len(array)\n",
    "    BuildMaxHeap(array, length)\n",
    "    return array\n",
    "\n",
    "def BuildMaxHeap(array, length): \n",
    "    for j in range(length//2 + 1): # 由前往後 Heapify\n",
    "        Heapify(array, j, length)\n",
    "\n",
    "def Heapify(array, i, length):\n",
    "    left = 2 * i + 1\n",
    "    right = 2 * i + 2\n",
    "\n",
    "    if left <= length - 1 and array[left] > array[i]: # 比較時先和左邊child-node比較，並且把比較大的紀錄下來，再去和右邊child-node比較\n",
    "        Max = left\n",
    "    else:\n",
    "        Max = i\n",
    "    if right <= length - 1 and array[right] > array[Max]:\n",
    "        Max = right\n",
    "    if Max != i:                                      # 當發現最大值不是parent-node時，就將最大的child-node和parent-node位置交換。\n",
    "        array[i], array[Max] = array[Max], array[i]\n",
    "        Heapify(array, Max, length)                   # 從原本最大值Node的index，開始繼續向下排序。\n",
    "\n",
    "a = [3,2,1,5,6,4]\n",
    "HeapSort(a)"
   ]
  },
  {
   "cell_type": "markdown",
   "metadata": {},
   "source": [
    "<font color=2f416d size=3>第二步：Change largest item and Remove last item in heap</font>\n",
    "\n",
    "1. 在BuildMaxHeap後，要把array[0]和array[heaplast]對調，且heapsize要減1，表示在heap中刪掉最大的數。\n",
    "\n",
    "<font color=2f416d size=3>第三步：Keep Heapify</font>\n",
    "\n",
    "1. 在對調完位置後，heap剩下(heapsize - 1)個Node，Heapify由再由0開始，依次向後比對父節點和子結點(Sift-down)。\n",
    "\n",
    "<font color=#ff0000 size=3>Notice</font>\n",
    "\n",
    "1. heapsize每交換一次就就要減1，需要輸入到下一次Heapify的heapsize，這裡我用了兩種方法，一種是用class包起來，一種是多增加heapsize的參數。\n",
    "\n",
    "2. heaplast指的是heap中的最後一個數的Index，而heapsize指的是heap的個數。\n",
    "    + 由於包在迴圈內，heaplast最開始要用len(array)來扣，不能用self.heapsize，如果用self.heapsize隨著for迴圈會不斷覆蓋掉。\n",
    "    + 而heapsize也由原本len(array)的長度隨著每交換1次Node而扣1。 "
   ]
  },
  {
   "cell_type": "code",
   "execution_count": 7,
   "metadata": {},
   "outputs": [
    {
     "data": {
      "text/plain": [
       "[1, 2, 3, 4, 5, 6]"
      ]
     },
     "execution_count": 7,
     "metadata": {},
     "output_type": "execute_result"
    }
   ],
   "source": [
    "class HeapSort:\n",
    "    def __init__(self, array):\n",
    "        if type(array) is list:\n",
    "            self.array = array\n",
    "            self.heapsize = len(array)\n",
    "    \n",
    "    def run(self):\n",
    "        self.BuildMaxHeap(self.array)\n",
    "        for i in range(len(self.array) - 1):\n",
    "            heaplast = (len(self.array) - 1) - i # 一開始要用len(array)長度來扣，不然用heapsize的話會不斷被覆寫\n",
    "            self.array[0], self.array[heaplast] = self.array[heaplast], self.array[0]\n",
    "            self.heapsize = self.heapsize - 1\n",
    "            self.Heapify(self.array,0)\n",
    "        return self.array\n",
    "    \n",
    "    def BuildMaxHeap(self, array): \n",
    "        n = self.heapsize\n",
    "        for j in range(n//2 + 1):\n",
    "            i = n//2 - j        # 由後往前 Heapify\n",
    "            self.Heapify(self.array, i)\n",
    "\n",
    "    def Heapify(self, array, i):\n",
    "        left = 2 * i + 1\n",
    "        right = 2 * i + 2\n",
    "        \n",
    "        if left <= self.heapsize - 1 and self.array[left] > self.array[i]: \n",
    "            Max = left\n",
    "        else:\n",
    "            Max = i\n",
    "        if right <= self.heapsize - 1 and self.array[right] > self.array[Max]:\n",
    "            Max = right\n",
    "        if Max != i:\n",
    "            self.array[i], self.array[Max] = self.array[Max], self.array[i]\n",
    "            self.Heapify(self.array, Max)\n",
    "\n",
    "a = [3,2,1,5,6,4]\n",
    "b = HeapSort(a)\n",
    "b.run()"
   ]
  },
  {
   "cell_type": "code",
   "execution_count": 8,
   "metadata": {},
   "outputs": [
    {
     "data": {
      "text/plain": [
       "[1, 2, 3, 4, 5, 6]"
      ]
     },
     "execution_count": 8,
     "metadata": {},
     "output_type": "execute_result"
    }
   ],
   "source": [
    "def HeapSort(array):\n",
    "    heapsize = len(array)\n",
    "    BuildMaxHeap(array, heapsize)\n",
    "    for i in range(len(array) - 1):\n",
    "        heaplast = (len(array) - 1) - i\n",
    "        array[0], array[heaplast] = array[heaplast], array[0]\n",
    "        heapsize = heapsize - 1\n",
    "        Heapify(array,0, heapsize)\n",
    "    return array\n",
    "\n",
    "def BuildMaxHeap(array, heapsize): \n",
    "    for j in range(heapsize//2 + 1):\n",
    "        i = heapsize//2 - j        # 由後往前 Heapify\n",
    "        Heapify(array, i, heapsize)\n",
    "\n",
    "def Heapify(array, i, heapsize):\n",
    "    left = 2 * i + 1\n",
    "    right = 2 * i + 2\n",
    "\n",
    "    if left <= heapsize - 1 and array[left] > array[i]:\n",
    "        Max = left\n",
    "    else:\n",
    "        Max = i\n",
    "    if right <= heapsize - 1 and array[right] > array[Max]:\n",
    "        Max = right\n",
    "    if Max != i:\n",
    "        array[i], array[Max] = array[Max], array[i]\n",
    "        Heapify(array, Max, heapsize)\n",
    "\n",
    "a = [3,2,1,5,6,4]\n",
    "HeapSort(a)"
   ]
  },
  {
   "cell_type": "markdown",
   "metadata": {},
   "source": [
    "<font color=2f416d size=3>最後：寫成Class</font>"
   ]
  },
  {
   "cell_type": "code",
   "execution_count": 9,
   "metadata": {},
   "outputs": [],
   "source": [
    "class Solution(object):\n",
    "    def heap_sort(self, nums):\n",
    "        self.array = nums\n",
    "        self.heapsize = len(nums)\n",
    "        self.BuildMaxHeap(self.array)\n",
    "        for i in range(len(self.array) - 1):\n",
    "            heaplast = (len(self.array) - 1) - i\n",
    "            self.array[0], self.array[heaplast] = self.array[heaplast], self.array[0]\n",
    "            self.heapsize = self.heapsize - 1\n",
    "            self.Heapify(self.array,0)\n",
    "        return self.array\n",
    "\n",
    "    def BuildMaxHeap(self, array): \n",
    "        n = self.heapsize\n",
    "        for j in range(n//2 + 1):\n",
    "            i = n//2 - j        \n",
    "            self.Heapify(self.array, i)\n",
    "\n",
    "    def Heapify(self, array, i):\n",
    "        left = 2 * i + 1\n",
    "        right = 2 * i + 2\n",
    "\n",
    "        if left <= self.heapsize - 1 and self.array[left] > self.array[i]:\n",
    "            Max = left\n",
    "        else:\n",
    "            Max = i\n",
    "        if right <= self.heapsize - 1 and self.array[right] > self.array[Max]:\n",
    "            Max = right\n",
    "        if Max != i:\n",
    "            self.array[i], self.array[Max] = self.array[Max], self.array[i]\n",
    "            self.Heapify(self.array, Max)"
   ]
  },
  {
   "cell_type": "markdown",
   "metadata": {},
   "source": [
    "<font color=2f416d size=3>時間複雜度(Time Complexity)</font>\n",
    "\n",
    "Best Case：Ο(n log n)\n",
    "\n",
    "Worst Case：Ο(n log n)\n",
    "\n",
    "Average Case：Ο(n log n)"
   ]
  }
 ],
 "metadata": {
  "kernelspec": {
   "display_name": "Python 3",
   "language": "python",
   "name": "python3"
  },
  "language_info": {
   "codemirror_mode": {
    "name": "ipython",
    "version": 3
   },
   "file_extension": ".py",
   "mimetype": "text/x-python",
   "name": "python",
   "nbconvert_exporter": "python",
   "pygments_lexer": "ipython3",
   "version": "3.7.3"
  }
 },
 "nbformat": 4,
 "nbformat_minor": 2
}
