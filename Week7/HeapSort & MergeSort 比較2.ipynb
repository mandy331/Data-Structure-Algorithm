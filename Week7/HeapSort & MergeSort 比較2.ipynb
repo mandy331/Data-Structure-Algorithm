{
 "cells": [
  {
   "cell_type": "markdown",
   "metadata": {},
   "source": [
    "<font color=2f416d size=4>參考連結</font>\n",
    "\n",
    "[比较排序算法](https://www.cnblogs.com/gaochundong/p/comparison_sorting_algorithms.html#merge_sort)"
   ]
  },
  {
   "cell_type": "markdown",
   "metadata": {},
   "source": [
    "<font color=2f416d size=4>HeapSort和MergeSort的比較</font>"
   ]
  },
  {
   "cell_type": "markdown",
   "metadata": {},
   "source": [
    "<font color=2f416d size=4>我自己的想法：</font>\n",
    "\n",
    "1. 在寫HeapSort和MergeSort時，可以看到結構上的差異，像是HeapSort主要是是以二元樹的概念所構成，且建Heap時不需要再有額外空間儲存，而MergeSort則是經典的Divide和Conquer的演算法，把小問題分解後再組合以求得答案，需要有額外空間O(n)來儲存暫時紀錄的left array和right array。\n",
    "\n",
    "\n",
    "2. HeapSort和MergeSort排序的方式也大不相同，HeapSort是每次交換頂點和待排序list的最後一個節點，而MergeSort的方式是每次比對兩個array，不斷比較後得到排序好的array。"
   ]
  },
  {
   "cell_type": "markdown",
   "metadata": {},
   "source": [
    "<font color=2f416d size=4>就效能等評估HeapSort和MergeSort的差異</font>\n",
    "\n",
    "1. 以 Time Complexity來看：\n",
    "    + HeapSort和MergeSort平均和最壞情況都需要O(nlogn)的時間，而MergeSort的最好情況卻可以只花O(n)的時間，比起HeapSort最好情況的O(nlogn)來說少掉很多。\n",
    "\n",
    "\n",
    "2. 以 儲存空間 來看：\n",
    "    + HeapSort需要多O(1)的儲存空間，而MergeSort則需要多O(n)的儲存空間，主要是因為MergeSort在兩兩比較list時，需要n個的位置來儲存left array和right array。\n",
    "   \n",
    "  \n",
    "3. 以 穩定度 來看：\n",
    "    + HeapSort較不穩定，因為其排序前後，可能同樣的值會有在排序後前後排序不同，意思是同樣是5，經過HeapSort後可能原本在前面的5和後面的5位置掉換。\n",
    "    + 而MergeSort相較來說穩定很多，因為其排序前後，同樣的值能在前後維持同樣前後排序。\n"
   ]
  }
 ],
 "metadata": {
  "kernelspec": {
   "display_name": "Python 3",
   "language": "python",
   "name": "python3"
  },
  "language_info": {
   "codemirror_mode": {
    "name": "ipython",
    "version": 3
   },
   "file_extension": ".py",
   "mimetype": "text/x-python",
   "name": "python",
   "nbconvert_exporter": "python",
   "pygments_lexer": "ipython3",
   "version": "3.7.3"
  }
 },
 "nbformat": 4,
 "nbformat_minor": 2
}
